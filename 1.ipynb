{
 "cells": [
  {
   "cell_type": "markdown",
   "id": "9f9ed742-a14f-4412-8664-d8bba4349f8a",
   "metadata": {},
   "source": [
    "Defining function"
   ]
  },
  {
   "cell_type": "code",
   "execution_count": 1,
   "id": "ad9818cd-fbdf-497b-8802-cb9f7f44450e",
   "metadata": {},
   "outputs": [],
   "source": [
    "# function definition\n",
    "def greet():\n",
    "    print(\"Hello World!\")"
   ]
  },
  {
   "cell_type": "markdown",
   "id": "e87ad2bf-f60b-46bc-9b71-24b7c57db3df",
   "metadata": {},
   "source": [
    "Calling the function"
   ]
  },
  {
   "cell_type": "code",
   "execution_count": 2,
   "id": "2543c3a1-0b45-49a0-853e-060a16952445",
   "metadata": {},
   "outputs": [
    {
     "name": "stdout",
     "output_type": "stream",
     "text": [
      "Hello World!\n"
     ]
    }
   ],
   "source": [
    "# calling function\n",
    "greet()"
   ]
  },
  {
   "cell_type": "markdown",
   "id": "81ea389d-935c-43d0-a2ae-5d7598e10855",
   "metadata": {},
   "source": [
    "Function with a parameter"
   ]
  },
  {
   "cell_type": "code",
   "execution_count": 3,
   "id": "8b73ca79-52a2-4dce-86a8-25e19b878d43",
   "metadata": {},
   "outputs": [
    {
     "name": "stdout",
     "output_type": "stream",
     "text": [
      "Hello NFS\n"
     ]
    }
   ],
   "source": [
    "def greet_name(name):\n",
    "    # name = parameter\n",
    "    print(\"Hello\", name)\n",
    "\n",
    "greet_name(\"NFS\")"
   ]
  },
  {
   "cell_type": "markdown",
   "id": "d7642dca-a437-48c7-8295-dcf6a077d5ae",
   "metadata": {},
   "source": [
    "Function with two parameters"
   ]
  },
  {
   "cell_type": "code",
   "execution_count": 4,
   "id": "d1cf9e40-edab-4cbb-b737-bf2f620bf0ed",
   "metadata": {},
   "outputs": [
    {
     "name": "stdout",
     "output_type": "stream",
     "text": [
      "Sum = 9\n"
     ]
    }
   ],
   "source": [
    "def add(num1, num2):\n",
    "    # two parameters\n",
    "    sum = num1 + num2\n",
    "    print(\"Sum =\", sum)\n",
    "\n",
    "add(5, 4) # parameters are assigned in the written order"
   ]
  },
  {
   "cell_type": "markdown",
   "id": "afe39d77-e86d-43a0-b1d3-923224da94e8",
   "metadata": {},
   "source": [
    "Using \"return\""
   ]
  },
  {
   "cell_type": "code",
   "execution_count": 5,
   "id": "af2a3c59-92bb-4f70-9612-b5452c1ef68d",
   "metadata": {},
   "outputs": [
    {
     "name": "stdout",
     "output_type": "stream",
     "text": [
      "9\n"
     ]
    }
   ],
   "source": [
    "def add(num1, num2):\n",
    "    sum = num1 + num2\n",
    "    return sum\n",
    "\n",
    "result = add(5, 4)\n",
    "print(result)"
   ]
  },
  {
   "cell_type": "code",
   "execution_count": null,
   "id": "96c92398-704a-4a08-ac7f-9761dd5723d0",
   "metadata": {},
   "outputs": [],
   "source": []
  },
  {
   "cell_type": "markdown",
   "id": "3c4d2e8a-752e-4ccc-87b7-59b2c221a417",
   "metadata": {},
   "source": [
    "### Activity: Create a Calculator which can do the following: Addition, Subtraction, Multiplication and Division"
   ]
  },
  {
   "cell_type": "code",
   "execution_count": 24,
   "id": "6e7e2c71-bb76-4a02-81d7-1cae280daa19",
   "metadata": {},
   "outputs": [
    {
     "name": "stdin",
     "output_type": "stream",
     "text": [
      "Enter the first number:  1\n",
      "Enter the second number:  0\n",
      "Choose the operation to be done (add=1, sub=2, mul=3, div=4):  4\n"
     ]
    },
    {
     "name": "stdout",
     "output_type": "stream",
     "text": [
      "The result is: Error: Division by zero is not allowed.\n"
     ]
    }
   ],
   "source": [
    "def add(num1, num2):\n",
    "    return num1 + num2\n",
    "\n",
    "def sub(num1, num2):\n",
    "    return num1 - num2\n",
    "\n",
    "def mul(num1, num2):\n",
    "    return num1 * num2\n",
    "\n",
    "def div(num1, num2):\n",
    "    if num2 == 0:\n",
    "        return \"Error: Division by zero is not allowed.\"\n",
    "    return num1 / num2\n",
    "\n",
    "operations = {'1': add,'2': sub,'3': mul,'4': div}\n",
    "\n",
    "num1 = int(input(\"Enter the first number: \"))\n",
    "num2 = int(input(\"Enter the second number: \"))\n",
    "operation = input(\"Choose the operation to be done (add=1, sub=2, mul=3, div=4): \")\n",
    "\n",
    "result = operations[operation](num1, num2)\n",
    "print(f\"Answer: {result}\")\n"
   ]
  },
  {
   "cell_type": "markdown",
   "id": "f386d77f-b395-440b-a4dc-eafec0e3e6d7",
   "metadata": {},
   "source": [
    "Library functions"
   ]
  },
  {
   "cell_type": "code",
   "execution_count": 10,
   "id": "7d6b6239-7f04-4baf-84db-08dcde7b9cad",
   "metadata": {},
   "outputs": [
    {
     "name": "stdout",
     "output_type": "stream",
     "text": [
      "1.4142135623730951\n"
     ]
    }
   ],
   "source": [
    "import math\n",
    "\n",
    "print(math.sqrt(2))"
   ]
  },
  {
   "cell_type": "markdown",
   "id": "1c9cfb5f-6a59-49d1-a7da-c4b96d96503f",
   "metadata": {},
   "source": [
    "A funtion to use later(use of pass)"
   ]
  },
  {
   "cell_type": "code",
   "execution_count": 13,
   "id": "c618ffaf-85a2-42fc-9633-b239cacbe9d2",
   "metadata": {},
   "outputs": [
    {
     "data": {
      "text/plain": [
       "<function __main__.future_purpose()>"
      ]
     },
     "execution_count": 13,
     "metadata": {},
     "output_type": "execute_result"
    }
   ],
   "source": [
    "def future_purpose():\n",
    "    pass # if this is not present, will create error\n",
    "\n",
    "future_purpose"
   ]
  },
  {
   "cell_type": "markdown",
   "id": "145045b1-3739-4a21-8058-a7ecf9670709",
   "metadata": {},
   "source": [
    "Recursive Function"
   ]
  },
  {
   "cell_type": "code",
   "execution_count": 21,
   "id": "4f11c1db-6da5-4015-9a4b-7893bdc88c4b",
   "metadata": {},
   "outputs": [
    {
     "name": "stdin",
     "output_type": "stream",
     "text": [
      "Enter the number whose factorial is to be found:  5\n"
     ]
    },
    {
     "name": "stdout",
     "output_type": "stream",
     "text": [
      "The factorial of 5 = 120\n"
     ]
    }
   ],
   "source": [
    "# Example: factorial\n",
    "def factorial(num):\n",
    "    if num == 1:\n",
    "        return 1\n",
    "    else:\n",
    "        return num * factorial(num-1)\n",
    "\n",
    "num = int(input(\"Enter the number whose factorial is to be found: \"))\n",
    "print(\"The factorial of\", num, \"=\", factorial(num))"
   ]
  },
  {
   "cell_type": "code",
   "execution_count": null,
   "id": "59e3d362-2511-464f-9cea-d80fa743e8c8",
   "metadata": {},
   "outputs": [],
   "source": []
  }
 ],
 "metadata": {
  "kernelspec": {
   "display_name": "Python 3.12",
   "language": "python",
   "name": "python312"
  },
  "language_info": {
   "codemirror_mode": {
    "name": "ipython",
    "version": 3
   },
   "file_extension": ".py",
   "mimetype": "text/x-python",
   "name": "python",
   "nbconvert_exporter": "python",
   "pygments_lexer": "ipython3",
   "version": "3.12.3"
  }
 },
 "nbformat": 4,
 "nbformat_minor": 5
}
